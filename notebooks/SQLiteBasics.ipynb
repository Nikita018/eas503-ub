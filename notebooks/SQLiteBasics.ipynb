{
 "cells": [
  {
   "cell_type": "markdown",
   "metadata": {
    "slideshow": {
     "slide_type": "slide"
    }
   },
   "source": [
    "# SQLite\n",
    "- in-process library\n",
    "  * implements a transactional SQL database engine\n",
    "    * self-contained, \n",
    "    * serverless, \n",
    "    * zero-configuration.\n",
    "- not a standalone process like other databases, \n",
    "  * link it statically or dynamically as per your requirement with your application. \n",
    "- accesses its storage files directly."
   ]
  },
  {
   "cell_type": "markdown",
   "metadata": {
    "slideshow": {
     "slide_type": "slide"
    }
   },
   "source": [
    "# Who?\n",
    "- Apple\n",
    "- Google (Android)\n",
    "- Facebook\n",
    "- ..."
   ]
  },
  {
   "cell_type": "markdown",
   "metadata": {
    "slideshow": {
     "slide_type": "slide"
    }
   },
   "source": [
    "\n",
    "# Why?\n",
    "- serverless\n",
    "- zero-configuration\n",
    "- complete SQLite database is stored in a single cross-platform disk file.\n",
    "- very small and light weight, less than 400KiB fully configured or less than 250KiB with optional features omitted.\n",
    "- self-contained, which means no external dependencies.\n",
    "- **fully ACID-compliant**, allowing safe access from multiple processes or threads.\n",
    "- supports most of the query language features found in SQL92 (SQL2) standard.\n",
    "- written in ANSI-C and provides simple and easy-to-use API.\n",
    "- available on UNIX (Linux, Mac OS-X, Android, iOS) and Windows (Win32, WinCE, WinRT)."
   ]
  },
  {
   "cell_type": "markdown",
   "metadata": {
    "slideshow": {
     "slide_type": "slide"
    }
   },
   "source": [
    "# Why Not?\n",
    "- Does not handle concurrent writes well,\n",
    "  * uses the file lock mechanism\n",
    "- Limit on the size of the database (max size is typically 140 TB)\n",
    "- Not optimal to be used for a large client-server architecture\n",
    "  * gets bogged down by the latency of network filesystems"
   ]
  },
  {
   "cell_type": "markdown",
   "metadata": {
    "slideshow": {
     "slide_type": "slide"
    }
   },
   "source": [
    "# What?\n",
    "\n",
    "- Domain definition language\n",
    "- Data manipulation language\n",
    "- Data query language"
   ]
  },
  {
   "cell_type": "markdown",
   "metadata": {
    "slideshow": {
     "slide_type": "slide"
    }
   },
   "source": [
    "# Creating database\n",
    "```shell\n",
    "sqlite3 movies.db\n",
    "```\n",
    "Creates a database called movies.db (if not exists already) and then connects to it."
   ]
  },
  {
   "cell_type": "markdown",
   "metadata": {
    "slideshow": {
     "slide_type": "slide"
    }
   },
   "source": [
    "# SQLite3 environment\n",
    "\n",
    "## Basic Commands\n",
    "- .help\n",
    "- .databases\n",
    "- .tables\n",
    "- .schema <name_of_table>\n",
    "- .quit"
   ]
  },
  {
   "cell_type": "markdown",
   "metadata": {
    "slideshow": {
     "slide_type": "subslide"
    }
   },
   "source": [
    "# SQLite3 environment\n",
    "\n",
    "## More Useful Commands\n",
    "\n",
    "| Command | Description |\n",
    "| :---:   |     :---:   |\n",
    "|.cd DIRECTORY            |Change the working directory to DIRECTORY|\n",
    "|.clone NEWDB             |Clone data into NEWDB from the existing database|\n",
    "|.databases               |List names and files of attached databases|\n",
    "|.dump ?TABLE? ...        |Render all database content as SQL|\n",
    "|.excel                   |Display the output of next command in a spreadsheet|\n",
    "|.headers on \\|of        |Turn display of headers on or off|\n",
    "|.import FILE TABLE       |Import data from FILE into TABLE|\n",
    "|.mode MODE ?TABLE?       |Set output mode|\n",
    "|.open ?OPTIONS? ?FILE?   |Close existing database and reopen FILE|\n",
    "|.output ?FILE?           |Send output to FILE or stdout if FILE is omitted|\n",
    "|.quit                    |Exit this program|\n",
    "|.read FILE               |Read input from FILE|\n",
    "|.restore ?DB? FILE       |Restore content of DB (default \"main\") from FILE|\n",
    "|.save FILE               |Write in-memory database into FILE|\n",
    "|.schema ?PATTERN?        |Show the CREATE statements matching PATTERN|\n",
    "|.separator COL ?ROW?     |Change the column and row separators|\n",
    "|.tables ?TABLE?          |List names of tables matching LIKE pattern TABLE|\n",
    "|.width NUM1 NUM2 ...     |Set column widths for \"column\" mode|"
   ]
  },
  {
   "cell_type": "markdown",
   "metadata": {
    "slideshow": {
     "slide_type": "slide"
    }
   },
   "source": [
    "# Creating tables\n",
    "```sql\n",
    "CREATE TABLE movies(\n",
    "    column_name column_type constraints,\n",
    "    ...\n",
    "  )\n",
    "```"
   ]
  },
  {
   "cell_type": "markdown",
   "metadata": {
    "slideshow": {
     "slide_type": "slide"
    }
   },
   "source": [
    "# Data types in SQLite3\n",
    "- Most SQL databases support static, rigid typing\n",
    "- Type of a value is determined by the type of the column in which it is support\n",
    "- But not SQLite3\n",
    "\n",
    "### SQLite3 supports dynamic type system\n",
    "- Datatype of a value is associated with the value itself, not with its column\n",
    "- SQLite3 provides *backward compatibility* to support common static type systems from other databases\n"
   ]
  },
  {
   "cell_type": "markdown",
   "metadata": {
    "slideshow": {
     "slide_type": "subslide"
    }
   },
   "source": [
    "# Storage Classes in SQLite3\n",
    "* NULL\n",
    "* INTEGER\n",
    "* REAL \n",
    "* TEXT\n",
    "* BLOB\n",
    "\n",
    "### Storage class is different than a datatype\n",
    "- Storage class determines how a value is stored on the disk\n",
    "- Datatype is how the value is considered when loaded in the memory"
   ]
  },
  {
   "cell_type": "markdown",
   "metadata": {
    "slideshow": {
     "slide_type": "subslide"
    }
   },
   "source": [
    "# Type Affinity in SQLite3\n",
    "- When we specify the `type` in `CREATE TABLE` query, we only specify the type affinity\n",
    "  * recommender type for data stored in that column\n",
    "- Five type affinities are allowed:\n",
    "  * TEXT\n",
    "  * NUMERIC\n",
    "  * INTEGER\n",
    "  * REAL \n",
    "  * BLOB\n",
    "- SQLite3 uses the type to determine what storage class to use to store a particular value\n",
    "- For example, if a column is defined as TEXT, then the data would be stored using storage class NULL, TEXT or BLOB\n",
    "- A column with NUMERIC affinity may contain values using all five storage classes. "
   ]
  },
  {
   "cell_type": "markdown",
   "metadata": {
    "slideshow": {
     "slide_type": "slide"
    }
   },
   "source": [
    "# Adding Constraints\n"
   ]
  },
  {
   "cell_type": "markdown",
   "metadata": {
    "slideshow": {
     "slide_type": "subslide"
    }
   },
   "source": [
    "# NOT NULL Constraint\n",
    "\n",
    "- Allows you to specify that a column will not permit NULL values\n",
    "```sql\n",
    "CREATE TABLE movies(\n",
    "    movieid INTEGER,\n",
    "    moviename TEXT NOT NULL);\n",
    "```\n",
    "- Column moviename will not permit null values\n",
    "- Try\n",
    "```\n",
    "INSERT INTO movies (movieid) VALUES (2);\n",
    "```"
   ]
  },
  {
   "cell_type": "markdown",
   "metadata": {
    "slideshow": {
     "slide_type": "subslide"
    }
   },
   "source": [
    "# UNIQUE Constraint\n",
    "\n",
    "- Allows you to specify that a column will not permit duplicate values\n",
    "```sql\n",
    "CREATE TABLE movies(\n",
    "    movieid INTEGER,\n",
    "    moviename TEXT UNIQUE);\n",
    "```\n",
    "- Column moviename will not permit null values\n",
    "- Try\n",
    "```\n",
    "INSERT INTO movies (movieid,moviename) VALUES (2,'Titanic');\n",
    "INSERT INTO movies (movieid,moviename) VALUES (2,'Avengers');\n",
    "INSERT INTO movies (movieid,moviename) VALUES (3,'Titanic');\n",
    "```"
   ]
  },
  {
   "cell_type": "markdown",
   "metadata": {
    "slideshow": {
     "slide_type": "subslide"
    }
   },
   "source": [
    "# CHECK\n",
    "- Allows checks on columns during insert or update time\n",
    "```\n",
    "CREATE TABLE movies(\n",
    "    movieid INTEGER,\n",
    "    moviename TEXT UNIQUE CHECK length(moviename) > 3);\n",
    "```\n",
    "- Only permits moviename column values that are longer than 2 characters\n",
    "  - can combine this with other functions besides `length()`"
   ]
  },
  {
   "cell_type": "markdown",
   "metadata": {
    "slideshow": {
     "slide_type": "subslide"
    }
   },
   "source": [
    "# Primary Keys\n",
    "\n",
    "```sql\n",
    "CREATE TABLE movies(\n",
    "    id INTEGER PRIMARY KEY,\n",
    "    name TEXT NOT NULL);\n",
    "```\n",
    "or\n",
    "```sql\n",
    "CREATE TABLE movies(\n",
    "    id INTEGER,\n",
    "    name TEXT NOT NULL,\n",
    "    PRIMARY KEY(id));\n",
    "```\n",
    "\n",
    "- Will get automatically assigned an id during INSERT if none provided\n",
    "```sql\n",
    "INSERT INTO movies(name) VALUES('Shawshank Redemption');\n",
    "```\n",
    "or\n",
    "```sql\n",
    "INSERT INTO movies VALUES(1,'Shawshank Redemption');\n",
    "```\n",
    "> The auto-increment only happens if the primary key is an INTEGER. "
   ]
  },
  {
   "cell_type": "markdown",
   "metadata": {
    "slideshow": {
     "slide_type": "subslide"
    }
   },
   "source": [
    "# Creating Relationships\n",
    "\n",
    "- You can specify relationships among multiple tables in the same database\n",
    "- Consider the following database schema:\n",
    "\n",
    "```sql\n",
    "CREATE TABLE movies(\n",
    "    movieid INTEGER PRIMARY KEY,\n",
    "    moviename TEXT NOT NULL);\n",
    "    \n",
    "CREATE TABLE actors(\n",
    "    actorid INTEGER PRIMARY KEY,\n",
    "    actorname TEXT NOT NULL);\n",
    "    \n",
    "CREATE TABLE actedIn(\n",
    "    rowid INTEGER PRIMARY KEY,\n",
    "    actorid INTEGER NOT NULL,\n",
    "    movieid INTEGER NOT NULL,\n",
    "    FOREIGN KEY(movieid) REFERENCES movies(movieid)\n",
    "    FOREIGN KEY(actorid) REFERENCES actors(actorid));\n",
    "```"
   ]
  },
  {
   "cell_type": "markdown",
   "metadata": {
    "slideshow": {
     "slide_type": "subslide"
    }
   },
   "source": [
    "# What do FOREIGN KEYs accomplish?\n",
    "- Give a sense of relationships (entity-relationship)\n",
    "- Constraints on deletes and updates\n",
    "> Try deleting or updating a row with a foreign key constraint"
   ]
  },
  {
   "cell_type": "markdown",
   "metadata": {
    "slideshow": {
     "slide_type": "subslide"
    }
   },
   "source": [
    "# PRAGMA Directives\n",
    "- SQL extension supported by SQLite\n",
    "- Modify operation of the SQLite library\n",
    "- Or, query the SQLite library for internal (non-table) data\n",
    "> We will not worry about these much except for one:\n",
    "  ```sql\n",
    "  PRAGMA foreign_keys = ON;\n",
    "  ```\n",
    "  - Without executing this pragma directive, the foreign key constraints will not be enforced"
   ]
  },
  {
   "cell_type": "markdown",
   "metadata": {
    "slideshow": {
     "slide_type": "slide"
    }
   },
   "source": [
    "# Loading data\n",
    "\n",
    "```sql\n",
    "INSERT INTO tablename VALUES ();\n",
    "```\n",
    "\n",
    "- Can also use `.import` to read from csv from the sqlite3 prompt\n",
    "\n",
    "```shell\n",
    ".import filename.csv tablename\n",
    "```\n",
    "> Make sure that the sqlite3 separator matches the separator used by the csv file\n",
    "  ```shell\n",
    "  .separator ','\n",
    "  ```"
   ]
  },
  {
   "cell_type": "markdown",
   "metadata": {
    "slideshow": {
     "slide_type": "slide"
    }
   },
   "source": [
    "# Querying data\n",
    "- We will use the `employees.db` database from here on\n",
    "```shell\n",
    "sqlite3 employees.db\n",
    ".read settings.sql -- this is to load some display preferences\n",
    ".tables\n",
    "```\n",
    "\n",
    "## Simplest SQL query\n",
    "- SELECT by itself is just asking SQLite to execute the statement that comes after. So you can also do:\n",
    "```sql\n",
    "SELECT 4+4;\n",
    "SELECT 8*8,9/4;\n",
    "```\n",
    "- Output for a SELECT statement is also a table that can then be saved or queried further\n",
    "- We use SELECT to query a table\n",
    "```sql\n",
    "SELECT * FROM employees\n",
    "```\n",
    "> Note that the output will be dumped on the screen. Since this table has a large number of rows, you can limit the output by:\n",
    "  ```sql\n",
    "  SELECT * FROM employees LIMIT 10\n",
    "  ```"
   ]
  },
  {
   "cell_type": "markdown",
   "metadata": {
    "slideshow": {
     "slide_type": "subslide"
    }
   },
   "source": [
    "# A Full SELECT Query\n",
    "```sql\n",
    "SELECT DISTINCT column_list\n",
    "FROM table_list\n",
    "  JOIN table ON join_condition\n",
    "WHERE row_filter\n",
    "ORDER BY column\n",
    "LIMIT count OFFSET offset\n",
    "GROUP BY column\n",
    "HAVING group_filter;\n",
    "```\n",
    "- We will look at each one of these options one by one"
   ]
  },
  {
   "cell_type": "markdown",
   "metadata": {
    "slideshow": {
     "slide_type": "subslide"
    }
   },
   "source": [
    "# Specifying Output Columns\n",
    "- Also known as the projection part of the query\n",
    "- Specify which columns we want, possible renaming of the columns, and even some functions applied to the columns\n",
    "\n",
    "## Examples\n",
    "- Return all columns from the table `dept_manager`\n",
    "```sql\n",
    "SELECT * FROM dept_manager\n",
    "```\n",
    "> Note: avoid in real applications\n",
    "\n",
    "- Only returns the column `dept_no`\n",
    "```sql\n",
    "SELECT dept_no FROM dept_manager\n",
    "```\n",
    "- Rename the column\n",
    "```sql\n",
    "SELECT dept_no as department FROM dept_manager\n",
    "```\n",
    "- Get distinct row values only\n",
    "```sql\n",
    "SELECT DISTINCT dept_no as department FROM dept_manager\n",
    "```"
   ]
  },
  {
   "cell_type": "markdown",
   "metadata": {
    "slideshow": {
     "slide_type": "subslide"
    }
   },
   "source": [
    "# Using built-in SQLite functions\n",
    "- Commonly used functions: count, min, max\n",
    "- Example: count the number of employees\n",
    "```sql\n",
    "SELECT count(*) FROM employees\n",
    "```\n",
    "- Find the lowest salary in the entire database\n",
    "```sql\n",
    "SELECT min(salary) FROM employees\n",
    "```\n",
    "> Built-in functions can also be used in the WHERE clauses, as we will see later"
   ]
  },
  {
   "cell_type": "markdown",
   "metadata": {
    "slideshow": {
     "slide_type": "subslide"
    }
   },
   "source": [
    "# Ordering output (ORDER BY)\n",
    "- Get all managers sorted by start time\n",
    "```sql\n",
    "SELECT * FROM dept_manager ORDER BY from_date\n",
    "```\n",
    "\n",
    "- Get all managers sorted by start time (in decreasing order)\n",
    "```sql\n",
    "SELECT * FROM dept_manager ORDER BY from_date DESC\n",
    "```"
   ]
  },
  {
   "cell_type": "markdown",
   "metadata": {
    "slideshow": {
     "slide_type": "subslide"
    }
   },
   "source": [
    "# Limiting output (LIMIT)\n",
    "- Get only the first few rows \n",
    "```sql\n",
    "  SELECT * FROM employees LIMIT 10\n",
    "```\n",
    "- Get only the first few rows starting from an offset\n",
    "```sql\n",
    "  SELECT * FROM employees LIMIT 10 OFFSET 4\n",
    "```\n",
    "- The last statement will print 10 rows starting from the 5th row"
   ]
  },
  {
   "cell_type": "markdown",
   "metadata": {
    "slideshow": {
     "slide_type": "subslide"
    }
   },
   "source": [
    "# Combining ORDER BY and LIMIT\n",
    "\n",
    "- Find the 10 oldest employees (by age)\n",
    "```sql\n",
    "SELECT * FROM employees ORDER BY birth_date limit 10\n",
    "```\n",
    "\n",
    "- Find the 10 most recently hired employees \n",
    "```sql\n",
    "SELECT * FROM employees ORDER BY hire_date DESC limit 10\n",
    "```\n",
    "\n",
    "- Find the second most recently hired employee in the database"
   ]
  },
  {
   "cell_type": "markdown",
   "metadata": {
    "slideshow": {
     "slide_type": "fragment"
    }
   },
   "source": [
    "```sql\n",
    "SELECT * FROM employees\n",
    "ORDER BY hire_date DESC LIMIT 1 OFFSET 1\n",
    "```"
   ]
  },
  {
   "cell_type": "markdown",
   "metadata": {
    "slideshow": {
     "slide_type": "subslide"
    }
   },
   "source": [
    "# Filtering output (WHERE)\n",
    "- Filter rows from a select query based on some condition\n",
    "- Find salaries that are greater than 150,000\n",
    "```sql\n",
    "SELECT * FROM salaries WHERE salary > 150000\n",
    "```\n",
    "> You can also use the WHERE clause with DELETE and UPDATE conditions\n",
    "\n",
    "- Can use two types of conditional statements in the WHERE clause\n",
    "  1. Comparison: =, != (or <>), <, <=, >, >= \n",
    "  2. Logical: AND, OR, NOT, BETWEEN, EXISTS, IN, LIKE"
   ]
  },
  {
   "cell_type": "markdown",
   "metadata": {
    "slideshow": {
     "slide_type": "subslide"
    }
   },
   "source": [
    "# Examples\n",
    "- Find employees who were born after 1965 and hired before 1986\n",
    "```sql\n",
    "SELECT * FROM employees WHERE birth_date > '1965-01-01' AND hire_date < '1986-01-01';\n",
    "```\n",
    "- Find employees who were born in the 50s\n",
    "```sql\n",
    "SELECT count(*) FROM employees WHERE birth_date BETWEEN '1950-01-01'  AND '1960-01-01';\n",
    "```\n",
    "- Find employees whose last name is either Reeker or Esposito\n",
    "```sql\n",
    "SELECT * FROM employees WHERE last_name IN ('Reeker','Esposito')\n",
    "```\n",
    "- Find employees whose last name starts with A\n",
    "```sql\n",
    "SELECT * FROM employees WHERE last_name LIKE 'A%'\n",
    "```\n",
    "- We will see the use of `EXISTS` when we discuss subqueries"
   ]
  },
  {
   "cell_type": "markdown",
   "metadata": {
    "slideshow": {
     "slide_type": "subslide"
    }
   },
   "source": [
    "# More about LIKE\n",
    "- Can use `LIKE` with a `%` or a `_` (single character match)\n",
    "```sql\n",
    "SELECT * FROM employees WHERE last_name LIKE 'A_pin'\n",
    "```\n",
    "- `LIKE` is case-insensitive\n",
    "- Can use the following PRAGMA directive to enforce case-sensitive matching\n",
    "```sql\n",
    "PRAGMA case_sensitive_like = true;\n",
    "```\n",
    "- Try the following:\n",
    "```sql\n",
    "SELECT * FROM employees WHERE first_name LIKE '%Arc%';\n",
    "PRAGMA case_sensitive_like = true;\n",
    "SELECT * FROM employees WHERE first_name LIKE '%Arc%';\n",
    "```"
   ]
  },
  {
   "cell_type": "markdown",
   "metadata": {
    "slideshow": {
     "slide_type": "subslide"
    }
   },
   "source": [
    "# Grouping data\n",
    "- `GROUP BY` - An optional clause to a `SELECT` statement\n",
    "- Group rows by the values of a certain set of columns\n",
    "- Returns one row per group\n",
    "- Allows aggregate functions to be applied to each group (`min`, `max`, `sum`, `count`, `avg`\n",
    "- Find the distinct last names of the employees and the counts for each last name\n",
    "```sql\n",
    "SELECT last_name, count(*) FROM employees GROUP BY last_name;\n",
    "```"
   ]
  },
  {
   "cell_type": "markdown",
   "metadata": {
    "slideshow": {
     "slide_type": "subslide"
    }
   },
   "source": [
    "# More examples\n",
    "- Find the oldest employee for each distinct last name\n"
   ]
  },
  {
   "cell_type": "markdown",
   "metadata": {
    "slideshow": {
     "slide_type": "fragment"
    }
   },
   "source": [
    "```sql\n",
    "SELECT last_name, count(*),min(birth_date) \n",
    "FROM employees \n",
    "GROUP BY last_name;\n",
    "```"
   ]
  },
  {
   "cell_type": "markdown",
   "metadata": {
    "slideshow": {
     "slide_type": "subslide"
    }
   },
   "source": [
    "# More examples\n",
    "- Find the most frequent last name"
   ]
  },
  {
   "cell_type": "markdown",
   "metadata": {
    "slideshow": {
     "slide_type": "fragment"
    }
   },
   "source": [
    "```sql\n",
    "SELECT last_name, count(*) as freq \n",
    "FROM employees \n",
    "GROUP BY last_name \n",
    "ORDER BY freq DESC LIMIT 1;\n",
    "```"
   ]
  },
  {
   "cell_type": "markdown",
   "metadata": {
    "slideshow": {
     "slide_type": "subslide"
    }
   },
   "source": [
    "# Adding HAVING to the GROUP BY Clause\n",
    "- Allows filtering out groups that do not match a certain aggregate criterion\n",
    "- Example: Find out all the unique last names such that at least 40 people have that last name\n",
    "```sql\n",
    "SELECT last_name, count(*) as freq \n",
    "FROM employees \n",
    "GROUP BY last_name \n",
    "HAVING count(*) > 40\n",
    "```\n",
    "- Find all employees whose average salary was greater than 120000"
   ]
  },
  {
   "cell_type": "markdown",
   "metadata": {
    "slideshow": {
     "slide_type": "fragment"
    }
   },
   "source": [
    "```sql\n",
    "SELECT emp_no, avg(salary) \n",
    "FROM salaries \n",
    "GROUP BY emp_no \n",
    "HAVING avg(salary) > 120000;\n",
    "```"
   ]
  },
  {
   "cell_type": "markdown",
   "metadata": {
    "slideshow": {
     "slide_type": "subslide"
    }
   },
   "source": [
    "# Joining Tables\n",
    "- A fundamental operation in databases (connecting multiple tables)\n",
    "  1. INNER JOIN\n",
    "  2. LEFT JOIN\n",
    "  3. CROSS JOIN\n",
    "  4. ~~RIGHT JOIN~~\n",
    "  5. ~~FULL OUTER JOIN~~\n",
    "- General syntax\n",
    "```sql\n",
    "SELECT a.columns,b.columns\n",
    "FROM table a\n",
    "<JOINTYPE> JOIN table b ON a.joiningcolumn = b.joiningcolumn\n",
    "```\n",
    "- Can join on more than two tables (first one will be the left table)"
   ]
  },
  {
   "cell_type": "markdown",
   "metadata": {
    "slideshow": {
     "slide_type": "subslide"
    }
   },
   "source": [
    "# INNER JOIN\n",
    "- Most widely used flavor of join\n",
    "- Return rows from left and right tables which match the join criterion\n",
    "- If both tables have the same column name in the ON clause, you can use `USING` clause instead of `ON`\n",
    "- Example: find name and salaries of all employees\n",
    "```sql\n",
    "SELECT e.first_name, e.last_name, e.emp_no, s.salary\n",
    "FROM employees e\n",
    "INNER JOIN salaries s ON e.emp_no = s.emp_no\n",
    "```\n",
    "or \n",
    "```sql\n",
    "SELECT e.first_name, e.last_name, e.emp_no, s.salary\n",
    "FROM employees e\n",
    "INNER JOIN salaries s USING(emp_no)\n",
    "```\n",
    "\n",
    "- Question: What if there is an employee who never drew a salary?"
   ]
  },
  {
   "cell_type": "markdown",
   "metadata": {
    "slideshow": {
     "slide_type": "subslide"
    }
   },
   "source": [
    "# Another example\n",
    "- Find the current salary for the manager of each department"
   ]
  },
  {
   "cell_type": "markdown",
   "metadata": {
    "slideshow": {
     "slide_type": "fragment"
    }
   },
   "source": [
    "```sql\n",
    "SELECT m.emp_no, m.dept_no, s.salary\n",
    "FROM dept_manager m \n",
    "JOIN salaries s USING(emp_no) \n",
    "WHERE m.to_date = '9999-01-01' AND s.to_date='9999-01-01';\n",
    "```"
   ]
  },
  {
   "cell_type": "markdown",
   "metadata": {
    "slideshow": {
     "slide_type": "subslide"
    }
   },
   "source": [
    "# Another example\n",
    "- For each employee find the dept_o that they were manager of (hint: use the `dept_manager` table)\n",
    "```sql\n",
    "SELECT e.first_name, e.last_name, e.emp_no, d.dept_no\n",
    "FROM employees e\n",
    "INNER JOIN dept_manager d ON e.emp_no = d.emp_no\n",
    "```\n",
    "\n",
    "- What about the employees who were never managers?"
   ]
  },
  {
   "cell_type": "markdown",
   "metadata": {
    "slideshow": {
     "slide_type": "subslide"
    }
   },
   "source": [
    "# LEFT JOIN\n",
    "- Returns all rows from the left table along with the matching row from the right tables (if the join condition matches) or null\n",
    "```sql\n",
    "SELECT e.first_name, e.last_name, e.emp_no, d.dept_no\n",
    "FROM employees e\n",
    "LEFT JOIN dept_manager d ON e.emp_no = d.emp_no\n",
    "```"
   ]
  },
  {
   "cell_type": "markdown",
   "metadata": {
    "slideshow": {
     "slide_type": "subslide"
    }
   },
   "source": [
    "# CROSS JOIN\n",
    "- Returns all rows of the left table combined with all rows of the right table (a cartesian product)\n",
    "- Obviously there will not be any join condition (no `ON` or `USING`)\n",
    "- For example:\n",
    "```sql\n",
    "SELECT d.*,m.* \n",
    "FROM departments d \n",
    "CROSS JOIN dept_manager m;\n",
    "```"
   ]
  },
  {
   "cell_type": "markdown",
   "metadata": {
    "slideshow": {
     "slide_type": "subslide"
    }
   },
   "source": [
    "# Subqueries\n",
    "- A `SELECT` statement nested in another statement\n",
    "- Two typical uses\n",
    "  1. Nested subquery in a `WHERE` clause\n",
    "  ```sql\n",
    "  SELECT col1\n",
    "  FROM table1\n",
    "  WHERE col1 = (\n",
    "      SELECT col2\n",
    "      FROM table2\n",
    "  )\n",
    "  ```\n",
    "  2. Nest subquery in a `FROM` clause\n",
    "  ```sql\n",
    "  SELECT table1.col1\n",
    "  FROM(\n",
    "      SELECT col2\n",
    "      FROM table2\n",
    "      ) table1\n",
    "  ```"
   ]
  },
  {
   "cell_type": "markdown",
   "metadata": {
    "slideshow": {
     "slide_type": "subslide"
    }
   },
   "source": [
    "# Nested subqueries in a `WHERE` clause\n",
    "- Depending on the number of rows returned by the sub-query you can either use comparisons (if number of rows is 1) or `IN` or `EXISTS`\n",
    "- Example: find all oldest employees\n",
    "  - Two sub-problems here:\n",
    "    1. First find the earliest birthdate, and\n",
    "    2. Find all employees with birthdate equal to that date"
   ]
  },
  {
   "cell_type": "markdown",
   "metadata": {
    "slideshow": {
     "slide_type": "fragment"
    }
   },
   "source": [
    "```sql\n",
    "SELECT e.first_name,e.last_name\n",
    "FROM employees e\n",
    "WHERE e.birth_date = (\n",
    "    SELECT min(birth_date)\n",
    "    FROM employees e\n",
    "    )\n",
    "```"
   ]
  },
  {
   "cell_type": "markdown",
   "metadata": {
    "slideshow": {
     "slide_type": "subslide"
    }
   },
   "source": [
    "# Another example\n",
    "- Find all managers who make less than current average salary of all employees\n",
    "  * What is the current average salary for all employees?"
   ]
  },
  {
   "cell_type": "markdown",
   "metadata": {
    "slideshow": {
     "slide_type": "fragment"
    }
   },
   "source": [
    "```sql\n",
    "SELECT avg(salary)\n",
    "FROM salaries \n",
    "WHERE to_date='9999-01-01';\n",
    "```"
   ]
  },
  {
   "cell_type": "markdown",
   "metadata": {
    "slideshow": {
     "slide_type": "fragment"
    }
   },
   "source": [
    "- full query\n",
    "```sql\n",
    "SELECT m.emp_no, m.dept_no, s.salary\n",
    "FROM dept_manager m \n",
    "JOIN salaries s USING(emp_no) \n",
    "WHERE m.to_date = '9999-01-01'\n",
    "AND s.to_date='9999-01-01'\n",
    "AND salary > (\n",
    "    SELECT avg(salary)\n",
    "    FROM salaries \n",
    "    WHERE to_date='9999-01-01'\n",
    "    )\n",
    "```"
   ]
  },
  {
   "cell_type": "markdown",
   "metadata": {
    "slideshow": {
     "slide_type": "subslide"
    }
   },
   "source": [
    "# Using `IN`\n",
    "- If a subquery returns more than one row, then comparison will not work\n",
    "- You can use `IN` to check the membership\n",
    "- Example: Find the count of all employees who have ever worked in one of the roles as employee number 499617 (Hint: use the `titles` table)"
   ]
  },
  {
   "cell_type": "markdown",
   "metadata": {
    "slideshow": {
     "slide_type": "fragment"
    }
   },
   "source": [
    "```sql\n",
    "SELECT COUNT(DISTINCT t.emp_no)\n",
    "FROM titles t\n",
    "WHERE t.title IN (\n",
    "    SELECT title FROM titles WHERE emp_no = 499617\n",
    ")\n",
    "```"
   ]
  },
  {
   "cell_type": "markdown",
   "metadata": {
    "slideshow": {
     "slide_type": "subslide"
    }
   },
   "source": [
    "# Using `EXIST`\n",
    "- Allows for checking if the output of a query is empty or not\n",
    "- Example: Find all current managers who have ever worked something besides a manager\n",
    "```sql\n",
    "SELECT m.emp_no\n",
    "FROM dept_manager m\n",
    "WHERE EXISTS (\n",
    "    SELECT * FROM titles t WHERE t.emp_no = m.emp_no AND t.title <> 'Manager' \n",
    "    )\n",
    "```"
   ]
  },
  {
   "cell_type": "markdown",
   "metadata": {
    "slideshow": {
     "slide_type": "fragment"
    }
   },
   "source": [
    "- If we want to get the titles and names of those managers we can nest the above query\n",
    "```sql\n",
    "SELECT e.first_name,e.last_name,t.title\n",
    "FROM (SELECT m.emp_no\n",
    "FROM dept_manager m\n",
    "WHERE EXISTS (\n",
    "    SELECT * FROM titles t WHERE t.emp_no = m.emp_no AND t.title <> 'Manager' \n",
    "    )) mg\n",
    "JOIN employees e USING(emp_no)\n",
    "JOIN titles t USING(emp_no)\n",
    "```\n",
    "- This is an example of a **correlated** subquery - the subquery is dependent on the parent query\n",
    "- These are slower to run"
   ]
  },
  {
   "cell_type": "markdown",
   "metadata": {
    "slideshow": {
     "slide_type": "subslide"
    }
   },
   "source": [
    "# Nested subqueries in a `FROM` clause\n",
    "- Example: Find the most recent salary of all employees\n",
    "- Remember that each employee might have several records in `salaries` table with `to_date`\n",
    "- The record with most recent `to_date` will indicate the last position\n",
    "- Subquery - Get the record for each employee with most recent date\n",
    "```sql\n",
    "SELECT emp_no,max(to_date) AS to_date \n",
    "FROM salaries GROUP BY emp_no\n",
    "```"
   ]
  },
  {
   "cell_type": "markdown",
   "metadata": {
    "slideshow": {
     "slide_type": "fragment"
    }
   },
   "source": [
    "- Using the output of the subquery as a table to join\n",
    "```sql\n",
    "SELECT max_salaries.emp_no,s.salary\n",
    "FROM (SELECT emp_no,max(to_date) AS to_date FROM salaries GROUP BY emp_no) max_salaries\n",
    "JOIN salaries USING(emp_no,to_date)\n",
    "```"
   ]
  },
  {
   "cell_type": "markdown",
   "metadata": {
    "slideshow": {
     "slide_type": "subslide"
    }
   },
   "source": [
    "# Creating intermediate tables\n",
    "- Output of any query can be inserted into an existing table\n",
    "  * As long as the schema matches\n",
    "```sql\n",
    "INSERT INTO employees_females SELECT * FROM employees WHERE gender = 'F'\n",
    "```"
   ]
  },
  {
   "cell_type": "markdown",
   "metadata": {
    "slideshow": {
     "slide_type": "subslide"
    }
   },
   "source": [
    "# Set operators\n",
    "- Operate on two query outputs (same schema is required)\n",
    "- Consider each otput as a set of rows\n",
    "  1. Union\n",
    "  2. Except\n",
    "  3. Intersect"
   ]
  },
  {
   "cell_type": "markdown",
   "metadata": {
    "slideshow": {
     "slide_type": "subslide"
    }
   },
   "source": [
    "# Weekend Problem\n",
    "- Find all employees whose current salary is more than the current salary of their managers\n",
    "  * Current salary of the current manager of each department\n",
    "  * Current salary of each employee\n",
    "  * Current salary of the current manager of each employee"
   ]
  },
  {
   "cell_type": "markdown",
   "metadata": {
    "slideshow": {
     "slide_type": "subslide"
    }
   },
   "source": [
    "# Indexes in SQLite\n",
    "- What are indexes?\n",
    "  * Data structures used to make queries faster\n",
    "  * Uses B-tree (Balanced) for organizing indexes\n",
    "  * You can define an index on one or more columns of a table\n",
    "  * You can have multiple indexes for the same table\n",
    "  \n",
    "  ```sql\n",
    "  CREATE INDEX <index-name>\n",
    "  ON <table-name>(column-list)\n",
    "  ```\n",
    "- Example:\n",
    "  ```sql\n",
    "  CREATE INDEX employees_last_name\n",
    "  ON employees(last_name)\n",
    "  ```\n",
    "- You can delete indexes by using\n",
    "  ```sql\n",
    "  DROP INDEX [IF EXISTS] <index-name>\n",
    "  ```\n"
   ]
  },
  {
   "cell_type": "markdown",
   "metadata": {
    "slideshow": {
     "slide_type": "subslide"
    }
   },
   "source": [
    "# When to create Index\n",
    "- Need to speed up queries\n",
    "- Downside:\n",
    "  * Size - index take space\n",
    "  * Insert/Update/Delete performance"
   ]
  },
  {
   "cell_type": "markdown",
   "metadata": {
    "slideshow": {
     "slide_type": "subslide"
    }
   },
   "source": [
    "# Calling SQLite from Python\n"
   ]
  },
  {
   "cell_type": "code",
   "execution_count": null,
   "metadata": {
    "slideshow": {
     "slide_type": "fragment"
    }
   },
   "outputs": [],
   "source": [
    "import sqlite3"
   ]
  },
  {
   "cell_type": "code",
   "execution_count": 5,
   "metadata": {
    "slideshow": {
     "slide_type": "fragment"
    }
   },
   "outputs": [
    {
     "name": "stdout",
     "output_type": "stream",
     "text": [
      "(50019,)\n"
     ]
    }
   ],
   "source": [
    "conn = sqlite3.connect('/Users/chandola/Teaching/eascourse/eas503-ub/notebooks/employees_db/employees.db')\n",
    "c = conn.cursor()\n",
    "# do stuff\n",
    "querystr = 'SELECT COUNT(*) FROM employees'\n",
    "res = c.execute(querystr)\n",
    "for r in res:\n",
    "    print(r)\n",
    "conn.close()"
   ]
  },
  {
   "cell_type": "code",
   "execution_count": 9,
   "metadata": {
    "slideshow": {
     "slide_type": "subslide"
    }
   },
   "outputs": [],
   "source": [
    "conn = sqlite3.connect('/Users/chandola/Teaching/eascourse/eas503-ub/notebooks/employees_db/employees.db')\n",
    "c = conn.cursor()\n",
    "# do stuff\n",
    "querystr = 'SELECT * FROM employees WHERE first_name LIKE \"A%\" LIMIT 10'\n",
    "res = c.execute(querystr)\n",
    "reslist = []\n",
    "for r in res:\n",
    "    reslist.append(r)\n",
    "conn.close()"
   ]
  },
  {
   "cell_type": "code",
   "execution_count": 13,
   "metadata": {
    "slideshow": {
     "slide_type": "fragment"
    }
   },
   "outputs": [
    {
     "name": "stdout",
     "output_type": "stream",
     "text": [
      "10\n",
      "<class 'tuple'>\n",
      "(10033, '1956-11-14', 'Arif', 'Merlo', 'M', '1987-03-18')\n"
     ]
    }
   ],
   "source": [
    "print(len(reslist))\n",
    "print(type(reslist[0]))\n",
    "print(reslist[0])"
   ]
  }
 ],
 "metadata": {
  "celltoolbar": "Slideshow",
  "kernelspec": {
   "display_name": "Python 3",
   "language": "python",
   "name": "python3"
  },
  "language_info": {
   "codemirror_mode": {
    "name": "ipython",
    "version": 3
   },
   "file_extension": ".py",
   "mimetype": "text/x-python",
   "name": "python",
   "nbconvert_exporter": "python",
   "pygments_lexer": "ipython3",
   "version": "3.6.8"
  }
 },
 "nbformat": 4,
 "nbformat_minor": 2
}
