{
 "cells": [
  {
   "attachments": {},
   "cell_type": "markdown",
   "metadata": {
    "slideshow": {
     "slide_type": "slide"
    }
   },
   "source": [
    "# SQLite\n",
    "- in-process library\n",
    "  * implements a transactional SQL database engine\n",
    "    * self-contained, \n",
    "    * serverless, \n",
    "    * zero-configuration.\n",
    "- not a standalone process like other databases, \n",
    "  * link it statically or dynamically as per your requirement with your application. \n",
    "- accesses its storage files directly."
   ]
  },
  {
   "attachments": {},
   "cell_type": "markdown",
   "metadata": {
    "slideshow": {
     "slide_type": "slide"
    }
   },
   "source": [
    "# Who?\n",
    "- Apple\n",
    "- Google (Android)\n",
    "- Facebook\n",
    "- ..."
   ]
  },
  {
   "attachments": {},
   "cell_type": "markdown",
   "metadata": {
    "slideshow": {
     "slide_type": "slide"
    }
   },
   "source": [
    "\n",
    "# Why?\n",
    "- serverless\n",
    "- zero-configuration\n",
    "- complete SQLite database is stored in a single cross-platform disk file.\n",
    "- very small and light weight, less than 400KiB fully configured or less than 250KiB with optional features omitted.\n",
    "- self-contained, which means no external dependencies.\n",
    "- **fully ACID-compliant**, allowing safe access from multiple processes or threads.\n",
    "- supports most of the query language features found in SQL92 (SQL2) standard.\n",
    "- written in ANSI-C and provides simple and easy-to-use API.\n",
    "- available on UNIX (Linux, Mac OS-X, Android, iOS) and Windows (Win32, WinCE, WinRT)."
   ]
  },
  {
   "cell_type": "markdown",
   "metadata": {
    "slideshow": {
     "slide_type": "slide"
    }
   },
   "source": [
    "# Why Not?\n",
    "- Does not handle concurrent writes well,\n",
    "  * uses the file lock mechanism\n",
    "- Limit on the size of the database (max size is typically 140 TB)\n",
    "- Not optimal to be used for a large client-server architecture\n",
    "  * gets bogged down by the latency of network filesystems"
   ]
  },
  {
   "cell_type": "markdown",
   "metadata": {
    "slideshow": {
     "slide_type": "slide"
    }
   },
   "source": [
    "# What?\n",
    "\n",
    "- Domain definition language\n",
    "- Data manipulation language\n",
    "- Data query language"
   ]
  },
  {
   "cell_type": "markdown",
   "metadata": {
    "slideshow": {
     "slide_type": "slide"
    }
   },
   "source": [
    "# Creating database\n",
    "```shell\n",
    "sqlite3 movies.db\n",
    "```\n",
    "Creates a database called movies.db (if not exists already) and then connects to it."
   ]
  },
  {
   "cell_type": "markdown",
   "metadata": {
    "slideshow": {
     "slide_type": "slide"
    }
   },
   "source": [
    "# SQLite3 environment\n",
    "\n",
    "## Basic Commands\n",
    "- .help\n",
    "- .databases\n",
    "- .tables\n",
    "- .schema <name_of_table>\n",
    "- .quit"
   ]
  },
  {
   "cell_type": "markdown",
   "metadata": {
    "slideshow": {
     "slide_type": "slide"
    }
   },
   "source": [
    "# Creating tables\n",
    "```sql\n",
    "CREATE TABLE movies(\n",
    "  ....\n",
    "  )\n",
    "```"
   ]
  },
  {
   "cell_type": "markdown",
   "metadata": {
    "slideshow": {
     "slide_type": "slide"
    }
   },
   "source": [
    "# Data types in SQLite3\n",
    "- Most SQL databases support static, rigid typing\n",
    "- Type of a value is determined by the type of the column in which it is support\n",
    "- But not SQLite3\n",
    "\n",
    "### SQLite3 supports dynamic type system\n",
    "- Datatype of a value is associated with the value itself, not with its column\n",
    "- SQLite3 provides *backward compatibility* to support common static type systems from other databases\n"
   ]
  },
  {
   "cell_type": "markdown",
   "metadata": {
    "slideshow": {
     "slide_type": "subslide"
    }
   },
   "source": [
    "# Storage Classes in SQLite3\n",
    "* NULL\n",
    "* INTEGER\n",
    "* REAL \n",
    "* TEXT\n",
    "* BLOB\n",
    "\n",
    "### Storage class is different than a datatype\n",
    "- Storage class determines how a value is stored on the disk\n",
    "- Datatype is how the value is considered when loaded in the memory"
   ]
  },
  {
   "cell_type": "markdown",
   "metadata": {
    "slideshow": {
     "slide_type": "subslide"
    }
   },
   "source": [
    "# Type Affinity in SQLite3\n",
    "- When we specify the `type` in `CREATE TABLE` query, we only specify the type affinity\n",
    "  * recommender type for data stored in that column\n",
    "- Five type affinities are allowed:\n",
    "  * TEXT\n",
    "  * NUMERIC\n",
    "  * INTEGER\n",
    "  * REAL \n",
    "  * BLOB\n",
    "- SQLite3 uses the type to determine what storage class to use to store a particular value\n",
    "- For example, if a column is defined as TEXT, then the data would be stored using storage class NULL, TEXT or BLOB\n",
    "- A column with NUMERIC affinity may contain values using all five storage classes. "
   ]
  },
  {
   "cell_type": "markdown",
   "metadata": {
    "slideshow": {
     "slide_type": "slide"
    }
   },
   "source": [
    "# Loading data\n",
    "\n",
    "```sql\n",
    "INSERT INTO tablename VALUES ();\n",
    "```\n",
    "\n",
    "- Can also use `.import` to read from csv"
   ]
  },
  {
   "cell_type": "markdown",
   "metadata": {
    "slideshow": {
     "slide_type": "slide"
    }
   },
   "source": [
    "# SQLite3 environment\n",
    "\n",
    "## More Commands\n",
    "- .separator\n",
    "- .mode\n",
    "- .header ON\n",
    "- .save\n",
    "- .import\n",
    "- .quit"
   ]
  }
 ],
 "metadata": {
  "celltoolbar": "Slideshow",
  "kernelspec": {
   "display_name": "Python 3",
   "language": "python",
   "name": "python3"
  },
  "language_info": {
   "codemirror_mode": {
    "name": "ipython",
    "version": 3
   },
   "file_extension": ".py",
   "mimetype": "text/x-python",
   "name": "python",
   "nbconvert_exporter": "python",
   "pygments_lexer": "ipython3",
   "version": "3.6.8"
  }
 },
 "nbformat": 4,
 "nbformat_minor": 2
}
